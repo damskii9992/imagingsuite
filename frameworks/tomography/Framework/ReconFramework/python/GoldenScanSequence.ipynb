{
 "cells": [
  {
   "cell_type": "markdown",
   "metadata": {},
   "source": [
    "# Playground for golden ratio CT scan sequences"
   ]
  },
  {
   "cell_type": "code",
   "execution_count": null,
   "metadata": {},
   "outputs": [],
   "source": [
    "import numpy as np\n",
    "import matplotlib.pyplot as plt"
   ]
  },
  {
   "cell_type": "markdown",
   "metadata": {},
   "source": [
    "## Define some functions and constants"
   ]
  },
  {
   "cell_type": "code",
   "execution_count": null,
   "metadata": {},
   "outputs": [],
   "source": [
    "def goldenSequence(x,arc=np.pi) :\n",
    "    phi=0.5*(1+np.sqrt(5))\n",
    "    return np.fmod(x*phi*arc,np.pi)"
   ]
  },
  {
   "cell_type": "code",
   "execution_count": null,
   "metadata": {},
   "outputs": [],
   "source": [
    "def goldenSequence2(x,arc=np.pi) :\n",
    "    phi=0.5*(1+np.sqrt(5))\n",
    "    return np.fmod(x*phi*np.pi,arc)\n",
    "\n",
    "def invGoldenSequence2(x,arc=np.pi) :\n",
    "    phi=0.5*(1+np.sqrt(5))\n",
    "    return np.fmod(x/phi*np.pi,arc)"
   ]
  },
  {
   "cell_type": "code",
   "execution_count": null,
   "metadata": {},
   "outputs": [],
   "source": [
    "def fib(n) :\n",
    "    return (((1+np.sqrt(5)))**n-((1-np.sqrt(5)))**n)/(2**n*np.sqrt(5))"
   ]
  },
  {
   "cell_type": "code",
   "execution_count": null,
   "metadata": {},
   "outputs": [],
   "source": [
    "plt.figure(figsize=[15,10])\n",
    "\n",
    "N=8\n",
    "x=np.linspace(0,N,N+1).astype(np.single)\n",
    "\n",
    "plt.subplot(2,2,1)\n",
    "y180=goldenSequence2(x)\n",
    "plt.plot(x,np.sort(y180),'.')\n",
    "plt.title('Golden 180$^{\\circ}$')\n",
    "\n",
    "plt.subplot(2,2,3)\n",
    "a,b=np.histogram(np.diff(np.sort(y180)))\n",
    "plt.plot(b[:-1],a,'.')\n",
    "\n",
    "plt.subplot(2,2,2)\n",
    "y360=goldenSequence2(x,2*np.pi)\n",
    "plt.plot(x,np.sort(y360),'.')\n",
    "plt.title('Golden 360$^{\\circ}$')\n",
    "\n",
    "plt.subplot(2,2,4)\n",
    "a,b=np.histogram(np.diff(np.sort(y360)))\n",
    "plt.plot(b[:-1],a,'.')\n",
    "\n"
   ]
  },
  {
   "cell_type": "code",
   "execution_count": null,
   "metadata": {},
   "outputs": [],
   "source": [
    "plt.figure(figsize=[15,10])\n",
    "\n",
    "x=np.linspace(0,N,N+1).astype(np.single)\n",
    "\n",
    "plt.subplot(2,2,1)\n",
    "iy180=invGoldenSequence2(x)\n",
    "plt.plot(x,np.sort(y180),'.')\n",
    "plt.title('Golden 180$^{\\circ}$')\n",
    "\n",
    "plt.subplot(2,2,3)\n",
    "a,b=np.histogram(np.diff(np.sort(y180)))\n",
    "plt.plot(b[:-1],a,'.')\n",
    "\n",
    "plt.subplot(2,2,2)\n",
    "iy360=invGoldenSequence2(x,2*np.pi)\n",
    "plt.plot(x,np.sort(y360),'.')\n",
    "plt.title('Golden 360$^{\\circ}$')\n",
    "\n",
    "plt.subplot(2,2,4)\n",
    "a,b=np.histogram(np.diff(np.sort(y360)))\n",
    "plt.plot(b[:-1],a,'.')\n",
    "\n"
   ]
  },
  {
   "cell_type": "markdown",
   "metadata": {},
   "source": [
    "## Fibonacci numbers"
   ]
  },
  {
   "cell_type": "code",
   "execution_count": null,
   "metadata": {},
   "outputs": [],
   "source": [
    "n=np.arange(0,17)\n",
    "print(fib(n))"
   ]
  },
  {
   "cell_type": "code",
   "execution_count": null,
   "metadata": {},
   "outputs": [],
   "source": [
    "np.degrees(y180)"
   ]
  },
  {
   "cell_type": "code",
   "execution_count": null,
   "metadata": {},
   "outputs": [],
   "source": [
    "np.degrees(y360)"
   ]
  },
  {
   "cell_type": "code",
   "execution_count": null,
   "metadata": {},
   "outputs": [],
   "source": [
    "def plotAngles(angles, ax) :\n",
    "    x=np.sin(angles)\n",
    "    y=np.cos(angles)\n",
    "    i=0\n",
    "    for xx,yy,aa in zip(x,y,angles):\n",
    "        ax.plot([-xx,xx],[-yy,yy])\n",
    "        ax.text(xx,yy,'{0}: {1:0.1f}'.format(i,np.degrees(aa)))\n",
    "        i+=1\n",
    "    ax.axis('square')"
   ]
  },
  {
   "cell_type": "code",
   "execution_count": null,
   "metadata": {},
   "outputs": [],
   "source": [
    "fig,ax = plt.subplots(1,2,figsize=(15,7))\n",
    "plotAngles(y180,ax[0])\n",
    "plotAngles(y360,ax[1])"
   ]
  },
  {
   "cell_type": "code",
   "execution_count": null,
   "metadata": {},
   "outputs": [],
   "source": [
    "print(np.degrees(iy180))\n",
    "print(np.degrees(iy360))"
   ]
  },
  {
   "cell_type": "code",
   "execution_count": null,
   "metadata": {},
   "outputs": [],
   "source": [
    "fig,ax = plt.subplots(1,2,figsize=(15,7))\n",
    "plotAngles(iy180,ax[0])\n",
    "plotAngles(iy360,ax[1])"
   ]
  },
  {
   "cell_type": "code",
   "execution_count": null,
   "metadata": {},
   "outputs": [],
   "source": []
  }
 ],
 "metadata": {
  "kernelspec": {
   "display_name": "Python 3",
   "language": "python",
   "name": "python3"
  },
  "language_info": {
   "codemirror_mode": {
    "name": "ipython",
    "version": 3
   },
   "file_extension": ".py",
   "mimetype": "text/x-python",
   "name": "python",
   "nbconvert_exporter": "python",
   "pygments_lexer": "ipython3",
   "version": "3.7.3"
  }
 },
 "nbformat": 4,
 "nbformat_minor": 4
}
