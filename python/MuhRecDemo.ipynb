{
 "cells": [
  {
   "cell_type": "markdown",
   "metadata": {},
   "source": [
    "# MuhRec in python demonstration"
   ]
  },
  {
   "cell_type": "code",
   "execution_count": null,
   "metadata": {
    "ExecuteTime": {
     "end_time": "2021-04-08T15:14:49.532999Z",
     "start_time": "2021-04-08T15:14:49.530101Z"
    }
   },
   "outputs": [],
   "source": [
    "import sys, os\n",
    "sys.path.insert(0, \"/Users/kaestner/git/imagingsuite/frameworks/install/lib\")\n",
    "sys.path.insert(0, \"/Users/kaestner/git/scripts/python/\")\n",
    "if 'LD_LIBRARY_PATH' not in os.environ:\n",
    "    os.environ['LD_LIBRARY_PATH'] = '/Users/kaestner/git/imagingsuite/frameworks/install/lib'\n",
    "   # os.execv(sys.argv[0], sys.argv)\n",
    "\n",
    "\n"
   ]
  },
  {
   "cell_type": "code",
   "execution_count": null,
   "metadata": {
    "ExecuteTime": {
     "end_time": "2021-04-08T15:14:50.281325Z",
     "start_time": "2021-04-08T15:14:49.766065Z"
    }
   },
   "outputs": [],
   "source": [
    "import numpy as np\n",
    "import muhrectomo as mt\n",
    "import matplotlib.pyplot as plt\n",
    "import amglib.readers as io\n",
    "import amglib.imageutils as amg"
   ]
  },
  {
   "cell_type": "code",
   "execution_count": null,
   "metadata": {
    "ExecuteTime": {
     "end_time": "2021-04-08T15:14:50.287930Z",
     "start_time": "2021-04-08T15:14:50.282778Z"
    }
   },
   "outputs": [],
   "source": [
    "import importlib\n",
    "importlib.reload(mt)\n",
    "importlib.reload(io)\n",
    "importlib.reload(amg)"
   ]
  },
  {
   "cell_type": "code",
   "execution_count": null,
   "metadata": {},
   "outputs": [],
   "source": []
  },
  {
   "cell_type": "markdown",
   "metadata": {},
   "source": [
    "## Create a reconstructor object"
   ]
  },
  {
   "cell_type": "code",
   "execution_count": null,
   "metadata": {
    "ExecuteTime": {
     "end_time": "2021-04-08T15:14:53.245242Z",
     "start_time": "2021-04-08T15:14:53.242112Z"
    }
   },
   "outputs": [],
   "source": [
    "recon = mt.Reconstructor(mt.bpMultiProj)\n",
    "\n",
    "print(\"Created reconstructor :\",recon.name())"
   ]
  },
  {
   "cell_type": "markdown",
   "metadata": {},
   "source": [
    "## Reconstruction workflow"
   ]
  },
  {
   "cell_type": "markdown",
   "metadata": {},
   "source": [
    "### Numerical dummy\n",
    "This dummy is only to test the connection and that the reconstructor starts at all. Only nonsense data."
   ]
  },
  {
   "cell_type": "code",
   "execution_count": null,
   "metadata": {
    "ExecuteTime": {
     "end_time": "2021-04-08T15:14:54.102717Z",
     "start_time": "2021-04-08T15:14:54.098349Z"
    }
   },
   "outputs": [],
   "source": [
    "Nproj = 10\n",
    "proj = np.ones([Nproj,256,256])"
   ]
  },
  {
   "cell_type": "code",
   "execution_count": null,
   "metadata": {
    "ExecuteTime": {
     "end_time": "2021-04-08T15:14:54.370687Z",
     "start_time": "2021-04-08T15:14:54.368440Z"
    }
   },
   "outputs": [],
   "source": [
    "args = {\"angles\" : np.linspace(0,180,num=Nproj), \n",
    "        \"weights\" : np.ones(Nproj)}"
   ]
  },
  {
   "cell_type": "code",
   "execution_count": null,
   "metadata": {
    "ExecuteTime": {
     "end_time": "2021-04-08T15:14:54.683832Z",
     "start_time": "2021-04-08T15:14:54.681900Z"
    }
   },
   "outputs": [],
   "source": [
    "recon.configure({   \"center\" : 50, \n",
    "                    \"resolution\" : 0.135\n",
    "                })"
   ]
  },
  {
   "cell_type": "code",
   "execution_count": null,
   "metadata": {
    "ExecuteTime": {
     "end_time": "2021-04-08T15:14:55.724671Z",
     "start_time": "2021-04-08T15:14:54.952236Z"
    }
   },
   "outputs": [],
   "source": [
    "recon.process(proj,args)\n",
    "\n",
    "vol = recon.volume()"
   ]
  },
  {
   "cell_type": "code",
   "execution_count": null,
   "metadata": {
    "ExecuteTime": {
     "end_time": "2021-04-08T15:14:55.833085Z",
     "start_time": "2021-04-08T15:14:55.726281Z"
    }
   },
   "outputs": [],
   "source": [
    "plt.imshow(vol[0])"
   ]
  },
  {
   "cell_type": "markdown",
   "metadata": {},
   "source": [
    "### The wood data\n",
    "The wood data is the data I use a lot for demos, tests, and tutorials. It a piece of petrified wood [DOI](http://dx.doi.org/10.17632/g5snr785xy.2). "
   ]
  },
  {
   "cell_type": "markdown",
   "metadata": {},
   "source": [
    "#### Load projection data"
   ]
  },
  {
   "cell_type": "code",
   "execution_count": null,
   "metadata": {
    "ExecuteTime": {
     "end_time": "2021-04-08T15:14:56.000476Z",
     "start_time": "2021-04-08T15:14:55.942267Z"
    }
   },
   "outputs": [],
   "source": [
    "ob = io.readImages('/Users/Shared/data/wooddata/projections/ob_{0:04d}.tif',1,5,averageStack=True).mean(axis=0)\n",
    "dc = io.readImages('/Users/Shared//data/wooddata/projections/dc_{0:04d}.tif',1,5,averageStack=True).mean(axis=0)"
   ]
  },
  {
   "cell_type": "code",
   "execution_count": null,
   "metadata": {
    "ExecuteTime": {
     "end_time": "2021-04-08T15:14:57.559837Z",
     "start_time": "2021-04-08T15:14:56.214584Z"
    }
   },
   "outputs": [],
   "source": [
    "proj = io.readImages('/Users/Shared/data/wooddata/projections/wood_{0:04d}.tif',1,626) # This takes a while"
   ]
  },
  {
   "cell_type": "code",
   "execution_count": null,
   "metadata": {
    "ExecuteTime": {
     "end_time": "2021-04-08T15:14:57.565740Z",
     "start_time": "2021-04-08T15:14:57.561841Z"
    }
   },
   "outputs": [],
   "source": [
    "proj.dtype"
   ]
  },
  {
   "cell_type": "code",
   "execution_count": null,
   "metadata": {
    "ExecuteTime": {
     "end_time": "2021-04-08T15:14:57.961266Z",
     "start_time": "2021-04-08T15:14:57.568520Z"
    }
   },
   "outputs": [],
   "source": [
    "fig,ax = plt.subplots(1,3,figsize=[15,7])\n",
    "ax[0].imshow(dc)\n",
    "ax[1].imshow(ob)\n",
    "ax[2].imshow(proj[0])\n"
   ]
  },
  {
   "cell_type": "markdown",
   "metadata": {},
   "source": [
    "## Preprocessing\n",
    "Here the projections needs to be prepared for reconstruction. Typical operations are \n",
    "- Cropping\n",
    "- Normalization (possibly with scattering correction)\n",
    "- Spot cleaning\n",
    "- Ring cleaning"
   ]
  },
  {
   "cell_type": "markdown",
   "metadata": {},
   "source": [
    "### Normalize - the kipl way"
   ]
  },
  {
   "cell_type": "code",
   "execution_count": null,
   "metadata": {
    "ExecuteTime": {
     "end_time": "2021-04-08T15:14:59.992558Z",
     "start_time": "2021-04-08T15:14:59.812727Z"
    }
   },
   "outputs": [],
   "source": [
    "import imgalg "
   ]
  },
  {
   "cell_type": "code",
   "execution_count": null,
   "metadata": {
    "ExecuteTime": {
     "end_time": "2021-04-08T15:15:00.683868Z",
     "start_time": "2021-04-08T15:15:00.667566Z"
    }
   },
   "outputs": [],
   "source": [
    "help(imgalg)"
   ]
  },
  {
   "cell_type": "code",
   "execution_count": null,
   "metadata": {
    "ExecuteTime": {
     "end_time": "2021-04-08T15:15:01.332750Z",
     "start_time": "2021-04-08T15:15:01.330798Z"
    }
   },
   "outputs": [],
   "source": [
    "norm = imgalg.NormalizeImage(True) # True for use logarithm"
   ]
  },
  {
   "cell_type": "code",
   "execution_count": null,
   "metadata": {
    "ExecuteTime": {
     "end_time": "2021-04-08T15:15:02.076257Z",
     "start_time": "2021-04-08T15:15:02.073285Z"
    }
   },
   "outputs": [],
   "source": [
    "norm.usingLog()"
   ]
  },
  {
   "cell_type": "code",
   "execution_count": null,
   "metadata": {
    "ExecuteTime": {
     "end_time": "2021-04-08T15:15:05.164556Z",
     "start_time": "2021-04-08T15:15:02.649624Z"
    }
   },
   "outputs": [],
   "source": [
    "norm = imgalg.NormalizeImage(True) # True for use logarithm\n",
    "norm.setReferences(ob,dc)\n",
    "cproj = proj.copy()\n",
    "norm.process(cproj)"
   ]
  },
  {
   "cell_type": "markdown",
   "metadata": {},
   "source": [
    "## Normalize - the python way"
   ]
  },
  {
   "cell_type": "code",
   "execution_count": null,
   "metadata": {
    "ExecuteTime": {
     "end_time": "2021-04-08T15:15:07.714302Z",
     "start_time": "2021-04-08T15:15:05.166080Z"
    }
   },
   "outputs": [],
   "source": [
    "nproj = amg.normalizeImage(img=proj, ob=ob, dc=dc, neglog=True)"
   ]
  },
  {
   "cell_type": "code",
   "execution_count": null,
   "metadata": {
    "ExecuteTime": {
     "end_time": "2021-04-08T15:15:07.719632Z",
     "start_time": "2021-04-08T15:15:07.716125Z"
    }
   },
   "outputs": [],
   "source": [
    "nproj.dtype"
   ]
  },
  {
   "cell_type": "code",
   "execution_count": null,
   "metadata": {
    "ExecuteTime": {
     "end_time": "2021-04-08T15:15:08.250215Z",
     "start_time": "2021-04-08T15:15:07.722256Z"
    }
   },
   "outputs": [],
   "source": [
    "fig,axes=plt.subplots(1,5,figsize=(15,4))\n",
    "\n",
    "for idx,ax in enumerate(axes) :\n",
    "    ax.imshow(cproj[idx*20]-nproj[idx*20])"
   ]
  },
  {
   "cell_type": "code",
   "execution_count": null,
   "metadata": {
    "ExecuteTime": {
     "end_time": "2021-04-08T15:15:08.253804Z",
     "start_time": "2021-04-08T15:15:08.251492Z"
    }
   },
   "outputs": [],
   "source": [
    "print(nproj.shape,cproj.shape)"
   ]
  },
  {
   "cell_type": "code",
   "execution_count": null,
   "metadata": {
    "ExecuteTime": {
     "end_time": "2021-04-08T15:15:08.736414Z",
     "start_time": "2021-04-08T15:15:08.255223Z"
    }
   },
   "outputs": [],
   "source": [
    "fig,axes=plt.subplots(1,3,figsize=(15,4))\n",
    "a0=axes[0].imshow(cproj[:,400,:], vmin=-0.1,vmax=1); axes[0].set_title('cproj')\n",
    "fig.colorbar(a0,ax=axes[0])\n",
    "a1=axes[1].imshow(nproj[:,400,:], vmin=-0.1,vmax=1); axes[1].set_title('nproj')\n",
    "fig.colorbar(a1,ax=axes[1])\n",
    "a2=axes[2].imshow(cproj[:,400,:]-nproj[:,400,:]); axes[2].set_title('diff')\n",
    "fig.colorbar(a2,ax=axes[2])\n",
    "\n",
    "cproj.shape"
   ]
  },
  {
   "cell_type": "markdown",
   "metadata": {},
   "source": [
    "#### Prepare and run the back-projection"
   ]
  },
  {
   "cell_type": "code",
   "execution_count": null,
   "metadata": {
    "ExecuteTime": {
     "end_time": "2021-04-08T15:15:17.049863Z",
     "start_time": "2021-04-08T15:15:16.979825Z"
    }
   },
   "outputs": [],
   "source": [
    "ce = imgalg.TomoCenter()\n",
    "\n",
    "ce.estimate(cproj[0,:,:],cproj[312,:,:],imgalg.centerLeastSquare,True)"
   ]
  },
  {
   "cell_type": "code",
   "execution_count": null,
   "metadata": {},
   "outputs": [],
   "source": []
  },
  {
   "cell_type": "code",
   "execution_count": null,
   "metadata": {
    "ExecuteTime": {
     "end_time": "2021-04-08T15:09:14.338631Z",
     "start_time": "2021-04-08T15:09:09.942Z"
    }
   },
   "outputs": [],
   "source": [
    "Nproj = cproj.shape[0]\n",
    "# Information per projection\n",
    "args = {\"angles\"  : np.linspace(0,360,num=Nproj), \n",
    "        \"weights\" : np.ones(Nproj)/Nproj\n",
    "       }\n",
    "\n",
    "# Geometry information\n",
    "recon.configure({   \"center\" : 305, \n",
    "                    \"resolution\" : 0.1\n",
    "                })\n",
    "print(\"have\",Nproj,\"projections\")"
   ]
  },
  {
   "cell_type": "code",
   "execution_count": null,
   "metadata": {
    "ExecuteTime": {
     "end_time": "2021-04-08T15:09:14.340249Z",
     "start_time": "2021-04-08T15:09:10.122Z"
    }
   },
   "outputs": [],
   "source": [
    "recon.process(cproj[:,500:510,:].astype('float64'),args) # Reconstruct a part of the slices (32 slices here)\n",
    "del vol\n",
    "vol = recon.volume() # Retrieve the reconstructed volume"
   ]
  },
  {
   "cell_type": "code",
   "execution_count": null,
   "metadata": {
    "ExecuteTime": {
     "end_time": "2021-04-08T15:09:14.341752Z",
     "start_time": "2021-04-08T15:09:10.302Z"
    },
    "scrolled": true
   },
   "outputs": [],
   "source": [
    "plt.imshow(vol[0])\n",
    "plt.colorbar()\n",
    "plt.savefig('recon.png',dpi=300)"
   ]
  },
  {
   "cell_type": "code",
   "execution_count": null,
   "metadata": {
    "ExecuteTime": {
     "end_time": "2021-04-08T15:09:14.343065Z",
     "start_time": "2021-04-08T15:09:10.482Z"
    }
   },
   "outputs": [],
   "source": [
    "import ipyvolume as ipv"
   ]
  },
  {
   "cell_type": "code",
   "execution_count": null,
   "metadata": {
    "ExecuteTime": {
     "end_time": "2021-04-08T15:09:14.344634Z",
     "start_time": "2021-04-08T15:09:10.662Z"
    },
    "scrolled": true
   },
   "outputs": [],
   "source": [
    "ipv.widgets.quickvolshow(vol)"
   ]
  },
  {
   "cell_type": "code",
   "execution_count": null,
   "metadata": {
    "ExecuteTime": {
     "end_time": "2021-04-08T15:09:14.345992Z",
     "start_time": "2021-04-08T15:09:10.865Z"
    }
   },
   "outputs": [],
   "source": [
    "print(nproj.flags)\n",
    "print(cproj.flags)"
   ]
  },
  {
   "cell_type": "code",
   "execution_count": null,
   "metadata": {
    "ExecuteTime": {
     "end_time": "2021-03-21T11:41:27.247553Z",
     "start_time": "2021-03-21T11:41:27.245164Z"
    }
   },
   "outputs": [],
   "source": [
    "a=cproj[:,500:510,:]\n",
    "b=nproj[:,500:510,:]"
   ]
  },
  {
   "cell_type": "markdown",
   "metadata": {},
   "source": [
    "# Spotcleaning tests"
   ]
  },
  {
   "cell_type": "code",
   "execution_count": null,
   "metadata": {
    "ExecuteTime": {
     "end_time": "2021-03-25T20:22:04.027360Z",
     "start_time": "2021-03-25T20:22:04.018949Z"
    }
   },
   "outputs": [],
   "source": [
    "msc = imgalg.MorphSpotClean()"
   ]
  },
  {
   "cell_type": "code",
   "execution_count": null,
   "metadata": {
    "ExecuteTime": {
     "end_time": "2021-03-25T20:37:48.620009Z",
     "start_time": "2021-03-25T20:37:48.370277Z"
    }
   },
   "outputs": [],
   "source": [
    "strip= cproj[1,500:600,:]\n",
    "msc.setCleanMethod(detectionMethod=imgalg.MorphDetectPeaks, cleanMethod=imgalg.MorphCleanReplace);\n",
    "d=msc.detectionImage(strip)\n",
    "fig, ax = plt.subplots(1,3,figsize=(15,3))\n",
    "ax[0].imshow(strip)\n",
    "ax[1].imshow(d)\n",
    "phist,pbins=np.histogram(d.ravel(), bins=500)\n",
    "ax[2].plot(bins[:-1],np.cumsum(hist)/hist.sum())"
   ]
  },
  {
   "cell_type": "code",
   "execution_count": null,
   "metadata": {
    "ExecuteTime": {
     "end_time": "2021-03-25T20:37:04.997927Z",
     "start_time": "2021-03-25T20:37:04.769559Z"
    }
   },
   "outputs": [],
   "source": [
    "strip= cproj[1,500:600,:]\n",
    "msc.setCleanMethod(detectionMethod=imgalg.MorphDetectHoles, cleanMethod=imgalg.MorphCleanReplace);\n",
    "dh=msc.detectionImage(strip)\n",
    "fig, ax = plt.subplots(1,3,figsize=(15,3))\n",
    "ax[0].imshow(strip)\n",
    "ax[1].imshow(dh)\n",
    "hhist,hbins=np.histogram(dh.ravel(), bins=500)\n",
    "ax[2].plot(bins[:-1],np.cumsum(hhist)/hhist.sum())"
   ]
  },
  {
   "cell_type": "code",
   "execution_count": null,
   "metadata": {
    "ExecuteTime": {
     "end_time": "2021-03-25T20:42:40.853028Z",
     "start_time": "2021-03-25T20:42:40.635654Z"
    }
   },
   "outputs": [],
   "source": [
    "strip= cproj[1,500:600,:].copy()\n",
    "orig = cproj[1,500:600,:]\n",
    "msc.process(strip,th=[0.02, 0.02],sigma=[0.001, 0.001])\n",
    "fig, ax = plt.subplots(1,3,figsize=(15,3))\n",
    "ax[0].imshow(orig)\n",
    "ax[1].imshow(strip)\n",
    "ax[2].imshow(strip-orig)"
   ]
  }
 ],
 "metadata": {
  "hide_input": false,
  "kernelspec": {
   "display_name": "Python 3",
   "language": "python",
   "name": "python3"
  },
  "language_info": {
   "codemirror_mode": {
    "name": "ipython",
    "version": 3
   },
   "file_extension": ".py",
   "mimetype": "text/x-python",
   "name": "python",
   "nbconvert_exporter": "python",
   "pygments_lexer": "ipython3",
   "version": "3.8.5"
  }
 },
 "nbformat": 4,
 "nbformat_minor": 4
}
