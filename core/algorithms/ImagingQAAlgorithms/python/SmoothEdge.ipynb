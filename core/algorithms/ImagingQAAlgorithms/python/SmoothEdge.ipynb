{
 "cells": [
  {
   "cell_type": "code",
   "execution_count": null,
   "metadata": {},
   "outputs": [],
   "source": [
    "import numpy as np\n",
    "import matplotlib.pyplot as plt\n",
    "import scipy.signal as signal\n",
    "import skimage as ski\n",
    "from skimage import io\n"
   ]
  },
  {
   "cell_type": "markdown",
   "metadata": {},
   "source": [
    "# Building edge for tests"
   ]
  },
  {
   "cell_type": "code",
   "execution_count": null,
   "metadata": {},
   "outputs": [],
   "source": [
    "x=np.linspace(0,10,100)\n",
    "arg=(x-5.3)/2;\n",
    "A=10\n",
    "y=A*np.exp(-arg*arg);\n",
    "plt.plot(x,y)\n",
    "y[y<1e-3]=0"
   ]
  },
  {
   "cell_type": "code",
   "execution_count": null,
   "metadata": {},
   "outputs": [],
   "source": [
    "y.shape"
   ]
  },
  {
   "cell_type": "code",
   "execution_count": null,
   "metadata": {},
   "outputs": [],
   "source": [
    "cy=np.cumsum(y)\n",
    "plt.plot(x,cy)\n"
   ]
  },
  {
   "cell_type": "code",
   "execution_count": null,
   "metadata": {},
   "outputs": [],
   "source": [
    "dcy=np.diff(cy)"
   ]
  },
  {
   "cell_type": "code",
   "execution_count": null,
   "metadata": {},
   "outputs": [],
   "source": [
    "plt.plot(x,y,'.',x,0.5<y,x,np.ones(x.size)*0.5)"
   ]
  },
  {
   "cell_type": "code",
   "execution_count": null,
   "metadata": {},
   "outputs": [],
   "source": [
    "(0.5<y).sum()*20/1000"
   ]
  },
  {
   "cell_type": "code",
   "execution_count": null,
   "metadata": {},
   "outputs": [],
   "source": [
    "2*np.sqrt(np.log(2))*2"
   ]
  },
  {
   "cell_type": "code",
   "execution_count": null,
   "metadata": {},
   "outputs": [],
   "source": [
    "np.log(np.exp(1))"
   ]
  },
  {
   "cell_type": "markdown",
   "metadata": {},
   "source": [
    "# Look at unit test results"
   ]
  },
  {
   "cell_type": "code",
   "execution_count": null,
   "metadata": {},
   "outputs": [],
   "source": [
    "a=io.imread('../../UnitTests/data/slantededge.tif')\n",
    "plt.figure(figsize=[12,12])\n",
    "plt.subplot(221)\n",
    "plt.imshow(a,cmap='gray')\n",
    "plt.xticks(np.arange(0,a.shape[1],2),labels=[])\n",
    "plt.yticks(np.arange(0,a.shape[0],2),labels=[])\n",
    "plt.grid(color='orange', linestyle='-', linewidth=0.5)\n",
    "plt.grid(True)\n",
    "m= 24.6932 ; k= -0.0522558\n",
    "print(np.arctan(k)*180/np.pi)\n",
    "ybx=np.arange(0,a.shape[0])\n",
    "xbx=m+k*ybx\n",
    "plt.plot(xbx,ybx,'r',label='Fitted edge line')\n",
    "plt.title('Image of slanted edge')\n",
    "plt.legend()\n",
    "\n",
    "plt.subplot(222)\n",
    "plt.imshow(np.diff(a,axis=1),cmap='gray')\n",
    "m= 25.6932 ; k= -0.0522558\n",
    "print(np.arctan(k)*180/np.pi)\n",
    "ybx=np.arange(0,a.shape[0])\n",
    "xbx=m+k*ybx\n",
    "plt.plot(xbx,ybx,'r',label='Fitted edge line')\n",
    "plt.xticks(np.arange(0,a.shape[1],2),labels=[])\n",
    "plt.yticks(np.arange(0,a.shape[0],2),labels=[])\n",
    "plt.grid(color='orange', linestyle='-', linewidth=0.5)\n",
    "plt.grid(True)\n",
    "plt.title('Image of edge derivative')\n",
    "plt.legend()\n",
    "\n",
    "\n",
    "plt.subplot(2,2,3)\n",
    "d=a\n",
    "plt.step(np.arange(0,d.shape[1]),d[0,:], label='First line')\n",
    "plt.step(np.arange(0,d.shape[1]),d[25,:], label='Middle line')\n",
    "plt.step(np.arange(0,d.shape[1]),d[-1,:], label='Last line')\n",
    "plt.title('Line profiles edge')\n",
    "plt.legend()\n",
    "plt.subplot(2,2,4)\n",
    "d=np.diff(a,axis=1)\n",
    "plt.step(np.arange(0,d.shape[1]),d[0,:], label='First line')\n",
    "plt.step(np.arange(0,d.shape[1]),d[25,:], label='Middle line')\n",
    "plt.step(np.arange(0,d.shape[1]),d[-1,:], label='Last line')\n",
    "\n",
    "plt.title('Line profiles edge derivative')\n",
    "plt.legend()\n",
    "\n",
    "plt.tight_layout()\n",
    "plt.savefig('edgedemo.pdf')\n",
    "plt.savefig('edgedemo.png',dpi=150)"
   ]
  },
  {
   "cell_type": "code",
   "execution_count": null,
   "metadata": {},
   "outputs": [],
   "source": [
    "\n",
    "plt.subplot(1,2,1)\n",
    "d=a\n",
    "plt.step(np.arange(0,d.shape[1]),d[0,:], label='First line')\n",
    "plt.step(np.arange(0,d.shape[1]),d[25,:], label='Middle line')\n",
    "plt.step(np.arange(0,d.shape[1]),d[-1,:], label='Last line')\n",
    "plt.legend()\n",
    "plt.subplot(1,2,2)\n",
    "d=np.diff(a,axis=1)\n",
    "plt.step(np.arange(0,d.shape[1]),d[0,:], label='First line')\n",
    "plt.step(np.arange(0,d.shape[1]),d[25,:], label='Middle line')\n",
    "plt.step(np.arange(0,d.shape[1]),d[-1,:], label='Last line')\n",
    "plt.legend()"
   ]
  },
  {
   "cell_type": "code",
   "execution_count": null,
   "metadata": {},
   "outputs": [],
   "source": [
    "b=io.imread('../../UnitTests/data/raw_edge.tif').astype(float)\n",
    "plt.figure(figsize=[15,6])\n",
    "plt.subplot(241)\n",
    "plt.imshow(b)\n",
    "m= 32.8755 ;k= -0.0226082\n",
    "yax=np.arange(0,b.shape[0])\n",
    "xax=m+k*yax\n",
    "plt.plot(xax,yax,'r')\n",
    "\n",
    "plt.subplot(245)\n",
    "plt.imshow(np.diff(b,axis=1),clim=[-1600,200])\n",
    "plt.plot(xax,yax,'r')\n",
    "\n",
    "\n",
    "plt.subplot(1,4,2)\n",
    "d = np.loadtxt('../../UnitTests/data/edgeprofile.txt', delimiter=\"\\t\")\n",
    "plt.plot(d[:,0],(d[:,1]))\n",
    "\n",
    "plt.subplot(1,4,3)\n",
    "dd=np.diff(d[:,1])\n",
    "plt.plot(d[0:-1,0],dd)\n",
    "\n",
    "plt.subplot(1,4,4)\n",
    "ftdd=np.abs(np.fft.fft(dd))\n",
    "plt.plot(ftdd[0:len(ftdd)//2]/ftdd[0])\n",
    "plt.plot([0,len(ftdd)//2-1],[0.1,0.1],'--')\n",
    "plt.plot([0,len(ftdd)//2-1],[0.2,0.2],'--')\n",
    "\n"
   ]
  },
  {
   "cell_type": "code",
   "execution_count": null,
   "metadata": {},
   "outputs": [],
   "source": [
    "len(ftdd)"
   ]
  },
  {
   "cell_type": "markdown",
   "metadata": {},
   "source": [
    "# Weighted CoG"
   ]
  },
  {
   "cell_type": "code",
   "execution_count": null,
   "metadata": {},
   "outputs": [],
   "source": [
    "y2=y+np.random.normal(0,0.1*A,size=y.size)\n",
    "c1=(x*y2).sum()/y2.sum()\n",
    "plt.plot(x,y2)\n",
    "y3=y2\n",
    "y3[y2<0]=0\n",
    "plt.plot(x,y3)\n",
    "\n",
    "c2=(x*y3).sum()/y3.sum()\n",
    "print(y2.mean(), y2.std())\n",
    "\n",
    "y4=y2;\n",
    "y4=y4-(y4.mean()+y4.std())\n",
    "y4[y4<0]=0\n",
    "c3=(x*y4).sum()/y4.sum()\n",
    "print(c1,c2,c3)\n",
    "\n",
    "\n"
   ]
  },
  {
   "cell_type": "code",
   "execution_count": null,
   "metadata": {},
   "outputs": [],
   "source": [
    "c1=[]\n",
    "c2=[]\n",
    "c3=[]\n",
    "for i in np.arange(0,100) :\n",
    "    y2=y+np.random.normal(0,0.1*A,size=y.size)\n",
    "    c1.append((x*y2).sum()/y2.sum())\n",
    "    \n",
    "    y3=y2\n",
    "    y3[y2<0]=0\n",
    "    c2.append((x*y3).sum()/y3.sum())\n",
    "    y4=y2;\n",
    "    y4=y4-(y4.mean()+y4.std())\n",
    "    y4[y4<0]=0\n",
    "    c3.append((x*y4).sum()/y4.sum())\n"
   ]
  },
  {
   "cell_type": "code",
   "execution_count": null,
   "metadata": {},
   "outputs": [],
   "source": [
    "plt.plot(c1,label='Plain')\n",
    "plt.plot(c2,label='Non-zero')\n",
    "plt.plot(c3,label='Unbias')\n",
    "plt.legend()"
   ]
  },
  {
   "cell_type": "code",
   "execution_count": null,
   "metadata": {},
   "outputs": [],
   "source": [
    "print(np.mean(c1),np.mean(c2),np.mean(c3))"
   ]
  },
  {
   "cell_type": "code",
   "execution_count": null,
   "metadata": {},
   "outputs": [],
   "source": []
  },
  {
   "cell_type": "code",
   "execution_count": null,
   "metadata": {},
   "outputs": [],
   "source": []
  }
 ],
 "metadata": {
  "kernelspec": {
   "display_name": "Python 3",
   "language": "python",
   "name": "python3"
  },
  "language_info": {
   "codemirror_mode": {
    "name": "ipython",
    "version": 3
   },
   "file_extension": ".py",
   "mimetype": "text/x-python",
   "name": "python",
   "nbconvert_exporter": "python",
   "pygments_lexer": "ipython3",
   "version": "3.7.3"
  }
 },
 "nbformat": 4,
 "nbformat_minor": 2
}
